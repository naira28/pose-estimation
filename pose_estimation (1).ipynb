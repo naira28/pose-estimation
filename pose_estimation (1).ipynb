{
  "nbformat": 4,
  "nbformat_minor": 0,
  "metadata": {
    "colab": {
      "provenance": []
    },
    "kernelspec": {
      "name": "python3",
      "display_name": "Python 3"
    },
    "language_info": {
      "name": "python"
    }
  },
  "cells": [
    {
      "cell_type": "code",
      "execution_count": 1,
      "metadata": {
        "colab": {
          "base_uri": "https://localhost:8080/"
        },
        "id": "KUKd3cwX2apZ",
        "outputId": "48a12ae1-4182-4490-b1a2-a91b5eab0c0e"
      },
      "outputs": [
        {
          "output_type": "stream",
          "name": "stdout",
          "text": [
            "Mounted at /content/drive\n"
          ]
        }
      ],
      "source": [
        "from google.colab import drive\n",
        "drive.mount('/content/drive')"
      ]
    },
    {
      "cell_type": "code",
      "source": [
        "!pip install mediapipe"
      ],
      "metadata": {
        "colab": {
          "base_uri": "https://localhost:8080/"
        },
        "id": "0eMzS-Sk3CPS",
        "outputId": "fce5ae55-ff03-4b2e-efbb-98ea501752d9"
      },
      "execution_count": 2,
      "outputs": [
        {
          "output_type": "stream",
          "name": "stdout",
          "text": [
            "Collecting mediapipe\n",
            "  Downloading mediapipe-0.10.9-cp310-cp310-manylinux_2_17_x86_64.manylinux2014_x86_64.whl (34.5 MB)\n",
            "\u001b[2K     \u001b[90m━━━━━━━━━━━━━━━━━━━━━━━━━━━━━━━━━━━━━━━━\u001b[0m \u001b[32m34.5/34.5 MB\u001b[0m \u001b[31m26.7 MB/s\u001b[0m eta \u001b[36m0:00:00\u001b[0m\n",
            "\u001b[?25hRequirement already satisfied: absl-py in /usr/local/lib/python3.10/dist-packages (from mediapipe) (1.4.0)\n",
            "Requirement already satisfied: attrs>=19.1.0 in /usr/local/lib/python3.10/dist-packages (from mediapipe) (23.2.0)\n",
            "Requirement already satisfied: flatbuffers>=2.0 in /usr/local/lib/python3.10/dist-packages (from mediapipe) (23.5.26)\n",
            "Requirement already satisfied: matplotlib in /usr/local/lib/python3.10/dist-packages (from mediapipe) (3.7.1)\n",
            "Requirement already satisfied: numpy in /usr/local/lib/python3.10/dist-packages (from mediapipe) (1.23.5)\n",
            "Requirement already satisfied: opencv-contrib-python in /usr/local/lib/python3.10/dist-packages (from mediapipe) (4.8.0.76)\n",
            "Requirement already satisfied: protobuf<4,>=3.11 in /usr/local/lib/python3.10/dist-packages (from mediapipe) (3.20.3)\n",
            "Collecting sounddevice>=0.4.4 (from mediapipe)\n",
            "  Downloading sounddevice-0.4.6-py3-none-any.whl (31 kB)\n",
            "Requirement already satisfied: CFFI>=1.0 in /usr/local/lib/python3.10/dist-packages (from sounddevice>=0.4.4->mediapipe) (1.16.0)\n",
            "Requirement already satisfied: contourpy>=1.0.1 in /usr/local/lib/python3.10/dist-packages (from matplotlib->mediapipe) (1.2.0)\n",
            "Requirement already satisfied: cycler>=0.10 in /usr/local/lib/python3.10/dist-packages (from matplotlib->mediapipe) (0.12.1)\n",
            "Requirement already satisfied: fonttools>=4.22.0 in /usr/local/lib/python3.10/dist-packages (from matplotlib->mediapipe) (4.47.2)\n",
            "Requirement already satisfied: kiwisolver>=1.0.1 in /usr/local/lib/python3.10/dist-packages (from matplotlib->mediapipe) (1.4.5)\n",
            "Requirement already satisfied: packaging>=20.0 in /usr/local/lib/python3.10/dist-packages (from matplotlib->mediapipe) (23.2)\n",
            "Requirement already satisfied: pillow>=6.2.0 in /usr/local/lib/python3.10/dist-packages (from matplotlib->mediapipe) (9.4.0)\n",
            "Requirement already satisfied: pyparsing>=2.3.1 in /usr/local/lib/python3.10/dist-packages (from matplotlib->mediapipe) (3.1.1)\n",
            "Requirement already satisfied: python-dateutil>=2.7 in /usr/local/lib/python3.10/dist-packages (from matplotlib->mediapipe) (2.8.2)\n",
            "Requirement already satisfied: pycparser in /usr/local/lib/python3.10/dist-packages (from CFFI>=1.0->sounddevice>=0.4.4->mediapipe) (2.21)\n",
            "Requirement already satisfied: six>=1.5 in /usr/local/lib/python3.10/dist-packages (from python-dateutil>=2.7->matplotlib->mediapipe) (1.16.0)\n",
            "Installing collected packages: sounddevice, mediapipe\n",
            "Successfully installed mediapipe-0.10.9 sounddevice-0.4.6\n"
          ]
        }
      ]
    },
    {
      "cell_type": "code",
      "source": [
        "import cv2\n",
        "import os\n",
        "import pandas as pd\n",
        "import numpy as np\n",
        "import matplotlib.pyplot as plt\n",
        "import mediapipe as mp\n",
        "import csv"
      ],
      "metadata": {
        "id": "D-uLVIoP29Ff"
      },
      "execution_count": 3,
      "outputs": []
    },
    {
      "cell_type": "code",
      "source": [
        "mp_drawing = mp.solutions.drawing_utils#connection between points\n",
        "mp_pose = mp.solutions.pose# pose algorthim\n",
        "poses=mp_pose.Pose(min_detection_confidence=0.5, min_tracking_confidence=0.5)"
      ],
      "metadata": {
        "id": "XmQ7uqzk3O2P"
      },
      "execution_count": 4,
      "outputs": []
    },
    {
      "cell_type": "code",
      "source": [
        "\n",
        "\n",
        "DATA_DIR = '/content/drive/MyDrive/naira'\n",
        "data = []\n",
        "label = []\n",
        "\n",
        "mp_pose = mp.solutions.pose\n",
        "poses = mp_pose.Pose(min_detection_confidence=0.5, min_tracking_confidence=0.5)\n",
        "\n",
        "for dir_ in os.listdir(DATA_DIR):\n",
        "    for img_path in os.listdir(os.path.join(DATA_DIR, dir_)):\n",
        "        data_aux = []\n",
        "        _x = []\n",
        "        _y = []\n",
        "        _z = []\n",
        "\n",
        "        img = cv2.imread(os.path.join(DATA_DIR, dir_, img_path))\n",
        "        img_rgb = cv2.cvtColor(img, cv2.COLOR_BGR2RGB)\n",
        "\n",
        "        results = poses.process(img_rgb)\n",
        "\n",
        "        if results.pose_landmarks:\n",
        "            landmarks = results.pose_landmarks.landmark\n",
        "            for i in range(len(landmarks)):\n",
        "                x = landmarks[i].x\n",
        "                y = landmarks[i].y\n",
        "                z = landmarks[i].z\n",
        "                _x.append(x)\n",
        "                _y.append(y)\n",
        "                _z.append(z)\n",
        "                data_aux.extend([x - min(_x), y - min(_y), z - min(_z)])\n",
        "\n",
        "            data.append(data_aux)\n",
        "            label.append(dir_)\n",
        "        else:\n",
        "            print(f\"No pose landmarks detected in {os.path.join(DATA_DIR, dir_, img_path)}\")\n",
        "\n",
        "csv_file_path = 'data.csv'\n",
        "\n",
        "# Writing data and labels to CSV file\n",
        "with open(csv_file_path, 'w', newline='') as csv_file:\n",
        "    csv_writer = csv.writer(csv_file)\n",
        "    header = ['Label'] + [f'Feature_{i}' for i in range(len(data[0]))]\n",
        "    csv_writer.writerow(header)\n",
        "\n",
        "    # Write data and labels\n",
        "    for i in range(len(data)):\n",
        "        row = [label[i]] + data[i]\n",
        "        csv_writer.writerow(row)\n",
        "\n",
        "print(f'Data with labels has been successfully written to {csv_file_path}')\n"
      ],
      "metadata": {
        "colab": {
          "base_uri": "https://localhost:8080/"
        },
        "id": "jN_JnyuBb3qI",
        "outputId": "530cc4a5-a015-43fc-a7b4-524b809b0c31"
      },
      "execution_count": 5,
      "outputs": [
        {
          "output_type": "stream",
          "name": "stdout",
          "text": [
            "No pose landmarks detected in /content/drive/MyDrive/naira/0/frame00258.png\n",
            "No pose landmarks detected in /content/drive/MyDrive/naira/2/scene00135.png\n",
            "No pose landmarks detected in /content/drive/MyDrive/naira/2/scene00189.png\n",
            "Data with labels has been successfully written to data.csv\n"
          ]
        }
      ]
    },
    {
      "cell_type": "code",
      "source": [
        "len(landmarks)"
      ],
      "metadata": {
        "colab": {
          "base_uri": "https://localhost:8080/"
        },
        "id": "9SMRAiDp-rR5",
        "outputId": "8e5abf58-ec68-4768-e690-7245c6235ad7"
      },
      "execution_count": 6,
      "outputs": [
        {
          "output_type": "execute_result",
          "data": {
            "text/plain": [
              "33"
            ]
          },
          "metadata": {},
          "execution_count": 6
        }
      ]
    },
    {
      "cell_type": "code",
      "source": [
        "for lndmrk in mp_pose.PoseLandmark:\n",
        "    print(lndmrk)"
      ],
      "metadata": {
        "colab": {
          "base_uri": "https://localhost:8080/"
        },
        "id": "QTYVKdLT-tA9",
        "outputId": "909afc77-839f-4dbf-a0ad-101eb1460b73"
      },
      "execution_count": 7,
      "outputs": [
        {
          "output_type": "stream",
          "name": "stdout",
          "text": [
            "PoseLandmark.NOSE\n",
            "PoseLandmark.LEFT_EYE_INNER\n",
            "PoseLandmark.LEFT_EYE\n",
            "PoseLandmark.LEFT_EYE_OUTER\n",
            "PoseLandmark.RIGHT_EYE_INNER\n",
            "PoseLandmark.RIGHT_EYE\n",
            "PoseLandmark.RIGHT_EYE_OUTER\n",
            "PoseLandmark.LEFT_EAR\n",
            "PoseLandmark.RIGHT_EAR\n",
            "PoseLandmark.MOUTH_LEFT\n",
            "PoseLandmark.MOUTH_RIGHT\n",
            "PoseLandmark.LEFT_SHOULDER\n",
            "PoseLandmark.RIGHT_SHOULDER\n",
            "PoseLandmark.LEFT_ELBOW\n",
            "PoseLandmark.RIGHT_ELBOW\n",
            "PoseLandmark.LEFT_WRIST\n",
            "PoseLandmark.RIGHT_WRIST\n",
            "PoseLandmark.LEFT_PINKY\n",
            "PoseLandmark.RIGHT_PINKY\n",
            "PoseLandmark.LEFT_INDEX\n",
            "PoseLandmark.RIGHT_INDEX\n",
            "PoseLandmark.LEFT_THUMB\n",
            "PoseLandmark.RIGHT_THUMB\n",
            "PoseLandmark.LEFT_HIP\n",
            "PoseLandmark.RIGHT_HIP\n",
            "PoseLandmark.LEFT_KNEE\n",
            "PoseLandmark.RIGHT_KNEE\n",
            "PoseLandmark.LEFT_ANKLE\n",
            "PoseLandmark.RIGHT_ANKLE\n",
            "PoseLandmark.LEFT_HEEL\n",
            "PoseLandmark.RIGHT_HEEL\n",
            "PoseLandmark.LEFT_FOOT_INDEX\n",
            "PoseLandmark.RIGHT_FOOT_INDEX\n"
          ]
        }
      ]
    },
    {
      "cell_type": "code",
      "source": [
        "import sklearn\n",
        "from sklearn.ensemble import RandomForestClassifier\n",
        "from sklearn.model_selection import train_test_split\n",
        "from sklearn.metrics import accuracy_score\n",
        "import numpy as np"
      ],
      "metadata": {
        "id": "X9xSOlcy4cZQ"
      },
      "execution_count": 8,
      "outputs": []
    },
    {
      "cell_type": "code",
      "source": [
        "import pandas as pd\n",
        "\n",
        "# Specify the path to your CSV file\n",
        "csv_file_path = 'data.csv'\n",
        "\n",
        "# Read the CSV file into a DataFrame\n",
        "df = pd.read_csv(csv_file_path)\n",
        "\n",
        "# Display the DataFrame\n",
        "print(df)"
      ],
      "metadata": {
        "colab": {
          "base_uri": "https://localhost:8080/"
        },
        "id": "B6soU6Wt4dU9",
        "outputId": "8a6b0928-692d-4c88-e5fd-e5b02557ad9f"
      },
      "execution_count": 9,
      "outputs": [
        {
          "output_type": "stream",
          "name": "stdout",
          "text": [
            "      Label  Feature_0  Feature_1  Feature_2  Feature_3  Feature_4  Feature_5  \\\n",
            "0         0        0.0        0.0        0.0   0.017809        0.0   0.026307   \n",
            "1         0        0.0        0.0        0.0   0.018244        0.0   0.026075   \n",
            "2         0        0.0        0.0        0.0   0.014306        0.0   0.021840   \n",
            "3         0        0.0        0.0        0.0   0.019168        0.0   0.019772   \n",
            "4         0        0.0        0.0        0.0   0.018618        0.0   0.021767   \n",
            "...     ...        ...        ...        ...        ...        ...        ...   \n",
            "1216      2        0.0        0.0        0.0   0.029362        0.0   0.020556   \n",
            "1217      2        0.0        0.0        0.0   0.029121        0.0   0.031320   \n",
            "1218      2        0.0        0.0        0.0   0.028938        0.0   0.031210   \n",
            "1219      2        0.0        0.0        0.0   0.028826        0.0   0.025740   \n",
            "1220      2        0.0        0.0        0.0   0.028538        0.0   0.026162   \n",
            "\n",
            "      Feature_6  Feature_7  Feature_8  ...  Feature_89  Feature_90  \\\n",
            "0      0.030840   0.000000   0.026337  ...    1.218486    0.148118   \n",
            "1      0.031536   0.000000   0.026139  ...    1.238587    0.165336   \n",
            "2      0.030640   0.000000   0.021900  ...    1.623509    0.228920   \n",
            "3      0.034859   0.000000   0.019802  ...    1.529929    0.253294   \n",
            "4      0.034836   0.000433   0.021660  ...    1.424570    0.260099   \n",
            "...         ...        ...        ...  ...         ...         ...   \n",
            "1216   0.042983   0.000449   0.020497  ...    0.000000    0.115538   \n",
            "1217   0.042398   0.000454   0.031249  ...    0.000000    0.068736   \n",
            "1218   0.042105   0.000424   0.031157  ...    0.000000    0.088327   \n",
            "1219   0.041966   0.000367   0.025711  ...    0.000000    0.094937   \n",
            "1220   0.041753   0.000333   0.026139  ...    0.000000    0.097593   \n",
            "\n",
            "      Feature_91  Feature_92  Feature_93  Feature_94  Feature_95  Feature_96  \\\n",
            "0       0.723505    1.131917    0.407229    0.735910    1.062269    0.111038   \n",
            "1       0.677762    1.238550    0.408557    0.735214    1.089910    0.121213   \n",
            "2       0.721425    1.646182    0.470689    0.779769    1.434240    0.184328   \n",
            "3       0.709042    1.615267    0.475480    0.778041    1.326851    0.198933   \n",
            "4       0.789519    1.677766    0.495422    0.864592    1.224977    0.215023   \n",
            "...          ...         ...         ...         ...         ...         ...   \n",
            "1216    0.766440    0.602458    0.000000    0.915416    0.000000    0.152388   \n",
            "1217    0.765987    0.566064    0.000000    0.903792    0.000000    0.101794   \n",
            "1218    0.773867    0.565844    0.000000    0.910264    0.000000    0.095710   \n",
            "1219    0.776640    0.573381    0.000000    0.910788    0.000000    0.082828   \n",
            "1220    0.783770    0.580604    0.000000    0.918545    0.000000    0.083579   \n",
            "\n",
            "      Feature_97  Feature_98  \n",
            "0       0.771214    0.932312  \n",
            "1       0.750986    1.081205  \n",
            "2       0.799434    1.457380  \n",
            "3       0.781570    1.468409  \n",
            "4       0.857477    1.515731  \n",
            "...          ...         ...  \n",
            "1216    0.812186    0.712918  \n",
            "1217    0.807436    0.658453  \n",
            "1218    0.816009    0.663410  \n",
            "1219    0.819995    0.672978  \n",
            "1220    0.829349    0.682735  \n",
            "\n",
            "[1221 rows x 100 columns]\n"
          ]
        }
      ]
    },
    {
      "cell_type": "code",
      "source": [
        "data = np.asarray(df.drop('Label', axis=1))\n",
        "labels = np.asarray(df['Label'])\n",
        "x_train, x_test, y_train, y_test = train_test_split(data, labels, test_size=0.2, shuffle=True, stratify=labels)"
      ],
      "metadata": {
        "id": "euPr0wkl4hJW"
      },
      "execution_count": 10,
      "outputs": []
    },
    {
      "cell_type": "code",
      "source": [
        "model=RandomForestClassifier()\n",
        "model.fit(x_train,y_train)"
      ],
      "metadata": {
        "colab": {
          "base_uri": "https://localhost:8080/",
          "height": 75
        },
        "id": "wxMaBAoy4kaE",
        "outputId": "0e4a12f8-a656-448b-8879-5ab2f53aa945"
      },
      "execution_count": 11,
      "outputs": [
        {
          "output_type": "execute_result",
          "data": {
            "text/plain": [
              "RandomForestClassifier()"
            ],
            "text/html": [
              "<style>#sk-container-id-1 {color: black;background-color: white;}#sk-container-id-1 pre{padding: 0;}#sk-container-id-1 div.sk-toggleable {background-color: white;}#sk-container-id-1 label.sk-toggleable__label {cursor: pointer;display: block;width: 100%;margin-bottom: 0;padding: 0.3em;box-sizing: border-box;text-align: center;}#sk-container-id-1 label.sk-toggleable__label-arrow:before {content: \"▸\";float: left;margin-right: 0.25em;color: #696969;}#sk-container-id-1 label.sk-toggleable__label-arrow:hover:before {color: black;}#sk-container-id-1 div.sk-estimator:hover label.sk-toggleable__label-arrow:before {color: black;}#sk-container-id-1 div.sk-toggleable__content {max-height: 0;max-width: 0;overflow: hidden;text-align: left;background-color: #f0f8ff;}#sk-container-id-1 div.sk-toggleable__content pre {margin: 0.2em;color: black;border-radius: 0.25em;background-color: #f0f8ff;}#sk-container-id-1 input.sk-toggleable__control:checked~div.sk-toggleable__content {max-height: 200px;max-width: 100%;overflow: auto;}#sk-container-id-1 input.sk-toggleable__control:checked~label.sk-toggleable__label-arrow:before {content: \"▾\";}#sk-container-id-1 div.sk-estimator input.sk-toggleable__control:checked~label.sk-toggleable__label {background-color: #d4ebff;}#sk-container-id-1 div.sk-label input.sk-toggleable__control:checked~label.sk-toggleable__label {background-color: #d4ebff;}#sk-container-id-1 input.sk-hidden--visually {border: 0;clip: rect(1px 1px 1px 1px);clip: rect(1px, 1px, 1px, 1px);height: 1px;margin: -1px;overflow: hidden;padding: 0;position: absolute;width: 1px;}#sk-container-id-1 div.sk-estimator {font-family: monospace;background-color: #f0f8ff;border: 1px dotted black;border-radius: 0.25em;box-sizing: border-box;margin-bottom: 0.5em;}#sk-container-id-1 div.sk-estimator:hover {background-color: #d4ebff;}#sk-container-id-1 div.sk-parallel-item::after {content: \"\";width: 100%;border-bottom: 1px solid gray;flex-grow: 1;}#sk-container-id-1 div.sk-label:hover label.sk-toggleable__label {background-color: #d4ebff;}#sk-container-id-1 div.sk-serial::before {content: \"\";position: absolute;border-left: 1px solid gray;box-sizing: border-box;top: 0;bottom: 0;left: 50%;z-index: 0;}#sk-container-id-1 div.sk-serial {display: flex;flex-direction: column;align-items: center;background-color: white;padding-right: 0.2em;padding-left: 0.2em;position: relative;}#sk-container-id-1 div.sk-item {position: relative;z-index: 1;}#sk-container-id-1 div.sk-parallel {display: flex;align-items: stretch;justify-content: center;background-color: white;position: relative;}#sk-container-id-1 div.sk-item::before, #sk-container-id-1 div.sk-parallel-item::before {content: \"\";position: absolute;border-left: 1px solid gray;box-sizing: border-box;top: 0;bottom: 0;left: 50%;z-index: -1;}#sk-container-id-1 div.sk-parallel-item {display: flex;flex-direction: column;z-index: 1;position: relative;background-color: white;}#sk-container-id-1 div.sk-parallel-item:first-child::after {align-self: flex-end;width: 50%;}#sk-container-id-1 div.sk-parallel-item:last-child::after {align-self: flex-start;width: 50%;}#sk-container-id-1 div.sk-parallel-item:only-child::after {width: 0;}#sk-container-id-1 div.sk-dashed-wrapped {border: 1px dashed gray;margin: 0 0.4em 0.5em 0.4em;box-sizing: border-box;padding-bottom: 0.4em;background-color: white;}#sk-container-id-1 div.sk-label label {font-family: monospace;font-weight: bold;display: inline-block;line-height: 1.2em;}#sk-container-id-1 div.sk-label-container {text-align: center;}#sk-container-id-1 div.sk-container {/* jupyter's `normalize.less` sets `[hidden] { display: none; }` but bootstrap.min.css set `[hidden] { display: none !important; }` so we also need the `!important` here to be able to override the default hidden behavior on the sphinx rendered scikit-learn.org. See: https://github.com/scikit-learn/scikit-learn/issues/21755 */display: inline-block !important;position: relative;}#sk-container-id-1 div.sk-text-repr-fallback {display: none;}</style><div id=\"sk-container-id-1\" class=\"sk-top-container\"><div class=\"sk-text-repr-fallback\"><pre>RandomForestClassifier()</pre><b>In a Jupyter environment, please rerun this cell to show the HTML representation or trust the notebook. <br />On GitHub, the HTML representation is unable to render, please try loading this page with nbviewer.org.</b></div><div class=\"sk-container\" hidden><div class=\"sk-item\"><div class=\"sk-estimator sk-toggleable\"><input class=\"sk-toggleable__control sk-hidden--visually\" id=\"sk-estimator-id-1\" type=\"checkbox\" checked><label for=\"sk-estimator-id-1\" class=\"sk-toggleable__label sk-toggleable__label-arrow\">RandomForestClassifier</label><div class=\"sk-toggleable__content\"><pre>RandomForestClassifier()</pre></div></div></div></div></div>"
            ]
          },
          "metadata": {},
          "execution_count": 11
        }
      ]
    },
    {
      "cell_type": "code",
      "source": [
        "y_predict=model.predict(x_test)\n",
        "print(y_predict)\n",
        "accuracy=accuracy_score(y_predict,y_test)\n",
        "print('{}% of sample predicted correctly'.format(accuracy*100))"
      ],
      "metadata": {
        "colab": {
          "base_uri": "https://localhost:8080/"
        },
        "id": "CHQwiNCz4oms",
        "outputId": "186e30b6-0889-4d12-fc7e-2a199dedcfe3"
      },
      "execution_count": 17,
      "outputs": [
        {
          "output_type": "stream",
          "name": "stdout",
          "text": [
            "[0 2 0 2 0 0 0 0 2 0 2 0 0 0 2 0 0 0 2 2 2 0 2 0 0 0 0 0 0 0 0 0 2 0 0 0 0\n",
            " 0 0 0 0 0 2 0 0 2 2 2 2 2 0 2 2 0 0 2 0 0 0 0 0 2 0 0 0 2 0 0 2 0 2 0 0 0\n",
            " 0 0 0 0 0 0 0 0 2 0 2 2 0 2 2 0 0 2 2 2 0 0 0 2 0 2 0 0 0 2 0 0 0 0 0 0 0\n",
            " 0 2 2 0 0 0 0 0 0 2 2 2 0 0 0 2 0 2 2 2 0 2 0 0 0 2 0 2 0 0 2 0 0 2 0 0 2\n",
            " 0 2 0 0 0 0 0 2 0 0 2 0 2 0 2 0 0 0 0 0 0 0 2 2 2 0 0 0 2 0 0 2 0 0 0 0 0\n",
            " 0 0 0 0 0 2 0 0 0 0 0 2 2 0 2 0 0 2 0 0 2 2 0 2 0 0 0 0 0 2 0 0 0 2 0 2 0\n",
            " 0 0 0 0 0 0 0 0 0 2 0 0 0 2 0 2 2 0 0 2 2 0 2]\n",
            "100.0% of sample predicted correctly\n"
          ]
        }
      ]
    },
    {
      "cell_type": "code",
      "source": [
        "import pickle\n",
        "f = open('pose.h5', 'wb')\n",
        "pickle.dump({'model': model}, f)\n",
        "f.close()"
      ],
      "metadata": {
        "id": "QAMIb-InAHdZ"
      },
      "execution_count": 13,
      "outputs": []
    }
  ]
}